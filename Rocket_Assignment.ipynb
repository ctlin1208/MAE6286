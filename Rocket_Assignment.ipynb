{
 "cells": [
  {
   "cell_type": "markdown",
   "metadata": {},
   "source": [
    "Before you turn in this homework, make sure everything runs as expected. First, restart the kernel (in the menubar, select Kernel $\\rightarrow$ Restart) and then run all cells (in the menubar, select Cell $\\rightarrow$ Run All).\n",
    "\n",
    "Make sure you execute every single code cell, in order, filling with your solutions in any place that says `# YOUR CODE HERE`, and always DELETE the line that says:\n",
    "\n",
    "```python\n",
    "raise NotImplementedError()\n",
    "```\n",
    "\n",
    "The purpose of this line is to tell you if you forgot to answer a question (it will throw an error if the line is there)\n",
    "\n",
    "**IMPORTANT:** DO NOT DELETE ANY CELL and do not change the title of the Notebook.\n",
    "\n",
    "Fill your name below:"
   ]
  },
  {
   "cell_type": "code",
   "execution_count": 1,
   "metadata": {},
   "outputs": [],
   "source": [
    "name = \"ChingTang Lin\""
   ]
  },
  {
   "cell_type": "markdown",
   "metadata": {
    "deletable": false,
    "editable": false,
    "nbgrader": {
     "checksum": "3601caf696570f4d526f01df84aae2b8",
     "grade": false,
     "grade_id": "title",
     "locked": true,
     "schema_version": 1,
     "solution": false
    }
   },
   "source": [
    "# Coding Assignment: Rocket"
   ]
  },
  {
   "cell_type": "markdown",
   "metadata": {
    "deletable": false,
    "editable": false,
    "nbgrader": {
     "checksum": "40534a63f3bf4ee3ee73a6a0557ccc69",
     "grade": false,
     "grade_id": "rocket-introduction",
     "locked": true,
     "schema_version": 1,
     "solution": false
    }
   },
   "source": [
    "The equations of motion for a rocket in purely vertical flight are given by\n",
    "\n",
    "$$\n",
    "\\begin{align}\n",
    "\\frac{dh}{dt} &= v\\\\\n",
    "(m_s+m_p) \\frac{dv}{dt}& = -(m_s+m_p)g + \\dot{m}_pv_e - \\frac{1}{2}\\rho v|v|AC_D\n",
    "\\end{align}\n",
    "$$\n",
    "\n",
    "$h$ is the altitude of the rocket\n",
    "\n",
    "$m_s = 50kg$ is the weight of the rocket shell\n",
    "\n",
    "$g = 9.81 \\frac{m}{s^2}$\n",
    "\n",
    "$\\rho = 1.091 \\frac{kg}{m^3}$ is the average air density (assumed constant throughout flight)\n",
    "\n",
    "$A = \\pi r^2$ is the maximum cross sectional area of the rocket, where $r = 0.5 m$\n",
    "\n",
    "$v_e = 325 \\frac{m}{s}$ is the exhaust speed\n",
    "\n",
    "$C_D = 0.15 $ is the drag coefficient\n",
    "\n",
    "$m_{po} = 100 kg$ at time $t = 0$ is the initial weight of the rocket propellant\n",
    "\n",
    "The mass of the remaining propellant is given by:\n",
    "\n",
    "$$m_p = m_{po} - \\int^t_0 \\dot{m}_p d\\tau$$\n",
    "\n",
    "where $\\dot{m}_p$ is the time-varying burn rate given by the following figure:\n",
    "\n",
    "Propellant Burn Rate\n",
    "\n",
    "![burn rate](./figures/burn_rate.png)\n",
    "\n",
    "that is,\n",
    "\n",
    "$$\n",
    "\\begin{equation}\n",
    "    \\dot{m}_p \\left( t \\right) =\n",
    "    \\begin{cases}\n",
    "        20 & \\quad \\text{if} \\quad t < 5 \\\\\n",
    "        0 & \\quad \\text{otherwise}\n",
    "    \\end{cases}\n",
    "\\end{equation}\n",
    "$$\n",
    "\n",
    "Using Euler's method with a time-step size of $\\Delta t=0.1s$, create a Python script to calculate the altitude and velocity of the rocket from launch until crash down."
   ]
  },
  {
   "cell_type": "markdown",
   "metadata": {},
   "source": [
    "---"
   ]
  },
  {
   "cell_type": "markdown",
   "metadata": {
    "deletable": false,
    "editable": false,
    "nbgrader": {
     "checksum": "3817d647226de8f73390ed2a7500f2c3",
     "grade": false,
     "grade_id": "solution-section",
     "locked": true,
     "schema_version": 1,
     "solution": false
    }
   },
   "source": [
    "## Implement your solution"
   ]
  },
  {
   "cell_type": "markdown",
   "metadata": {
    "deletable": false,
    "editable": false,
    "nbgrader": {
     "checksum": "30f0f6ac504c41b65b165ab5e124a1e3",
     "grade": false,
     "grade_id": "solution-instructions",
     "locked": true,
     "schema_version": 1,
     "solution": false
    }
   },
   "source": [
    "Implement your solution in this section.\n",
    "You can use as many code cells as you want."
   ]
  },
  {
   "cell_type": "code",
   "execution_count": 2,
   "metadata": {
    "deletable": false,
    "nbgrader": {
     "checksum": "5f165c4f1bf69571a89fe7eb933b3f30",
     "grade": false,
     "grade_id": "student-imports",
     "locked": false,
     "schema_version": 1,
     "solution": true
    }
   },
   "outputs": [],
   "source": [
    "import math as mat\n",
    "import numpy as np\n",
    "from matplotlib import pyplot as plt\n",
    "from matplotlib import rcParams\n",
    "%matplotlib inline"
   ]
  },
  {
   "cell_type": "code",
   "execution_count": 3,
   "metadata": {
    "deletable": false,
    "nbgrader": {
     "checksum": "27d590ee670b29fb56a473f714c0e722",
     "grade": false,
     "grade_id": "student-solution",
     "locked": false,
     "schema_version": 1,
     "solution": true
    }
   },
   "outputs": [],
   "source": [
    "#parameters\n",
    "ms = 50           #weight of the rocket shell [kg]\n",
    "g = 9.81          #gravitational acceleration [m/s^2]\n",
    "ρ = 1.091         #average air density [kg/m^3]\n",
    "r = 0.5           #radius of the rocket [m]\n",
    "ve = 325          #exhaust speed [m/s]\n",
    "CD = 0.15         #drag coefficinet\n",
    "mp0 = 100         #initial weight of the rocket propellant\n",
    "\n",
    "\n",
    "#initial condition\n",
    "h0 = 0            #initial height [m]\n",
    "v0 = 0            #initial velocity [m/s]"
   ]
  },
  {
   "cell_type": "code",
   "execution_count": 4,
   "metadata": {},
   "outputs": [],
   "source": [
    "def mpr(t):\n",
    "    if t < 5:\n",
    "        return 20\n",
    "    else:\n",
    "        return 0\n",
    "\n",
    "dt = 0.1\n",
    "T = 50\n",
    "N = int(T/dt)+1\n",
    "t = np.linspace(0.0, T, num=N)\n",
    "A = mat.pi*r**2\n",
    "\n",
    "mp = np.zeros(N)\n",
    "mp[0] = mp0\n",
    "\n",
    "for n in range (N):\n",
    "    if n < 5/dt:\n",
    "        mp[n] = mp0 - mpr(n*dt)*n*dt\n",
    "    else:\n",
    "        mp[n] = 0.0"
   ]
  },
  {
   "cell_type": "code",
   "execution_count": 5,
   "metadata": {},
   "outputs": [
    {
     "data": {
      "image/png": "[encoded data removed]",
      "text/plain": [
       "<Figure size 432x360 with 1 Axes>"
      ]
     },
     "metadata": {},
     "output_type": "display_data"
    }
   ],
   "source": [
    "plt.rcParams['font.family']='serif'\n",
    "plt.rcParams['font.size']=16\n",
    "plt.figure(figsize=(6, 5))\n",
    "plt.plot(t, mp, color='b', linestyle='-', linewidth=2)\n",
    "plt.title('propellant mass/time')\n",
    "plt.xlabel('Time[s]')\n",
    "plt.ylabel('Propellant mass[kg]')\n",
    "plt.xlim(0,10)\n",
    "plt.grid()"
   ]
  },
  {
   "cell_type": "code",
   "execution_count": 6,
   "metadata": {},
   "outputs": [],
   "source": [
    "def f(u):\n",
    "    v = u[0]\n",
    "    h = u[1]\n",
    "    return np.array([-g + 1/(ms + mp[n])*ve*mpr(n*dt)-1/2/(ms+mp[n])*ρ*v*np.abs(v)*A*CD,\n",
    "                     v])\n",
    "\n",
    "def euler_step(u, f, dt):\n",
    "    \n",
    "    return u + dt*f(u)\n",
    "\n",
    "u = np.empty((N, 2))\n",
    "u[0] = np.array([v0, h0])\n",
    "\n",
    "for n in range(N - 1):\n",
    "    u[n + 1] = euler_step(u[n], f, dt)"
   ]
  },
  {
   "cell_type": "code",
   "execution_count": 7,
   "metadata": {},
   "outputs": [
    {
     "data": {
      "image/png": "[encoded data removed]",
      "text/plain": [
       "<Figure size 432x360 with 1 Axes>"
      ]
     },
     "metadata": {},
     "output_type": "display_data"
    },
    {
     "data": {
      "image/png": "[encoded data removed]",
      "text/plain": [
       "<Figure size 432x360 with 1 Axes>"
      ]
     },
     "metadata": {},
     "output_type": "display_data"
    }
   ],
   "source": [
    "v = u[:,0]\n",
    "h = u[:,1]\n",
    "\n",
    "plt.figure(figsize=(6,5))\n",
    "plt.plot(t,v,color='b', linestyle='-', linewidth=2)\n",
    "plt.title('Velocity/Time')\n",
    "plt.xlabel('Time[s]')\n",
    "plt.ylabel('Velocity [m/s]')\n",
    "plt.xlim(0, 50)\n",
    "plt.grid()\n",
    "\n",
    "\n",
    "plt.figure(figsize=(6,5))\n",
    "plt.plot(t,h,color='b', linestyle='-', linewidth=2)\n",
    "plt.title('Altitude/Time')\n",
    "plt.xlabel('Time[s]')\n",
    "plt.ylabel('Altitude [m]')\n",
    "plt.xlim(0, 50)\n",
    "plt.ylim(0, 1500)\n",
    "plt.grid()"
   ]
  },
  {
   "cell_type": "markdown",
   "metadata": {},
   "source": [
    "---"
   ]
  },
  {
   "cell_type": "markdown",
   "metadata": {
    "deletable": false,
    "editable": false,
    "nbgrader": {
     "checksum": "aedbf96b54ed3a6c60bcf728f6045007",
     "grade": false,
     "grade_id": "assessment-section",
     "locked": true,
     "schema_version": 1,
     "solution": false
    }
   },
   "source": [
    "## Assessment"
   ]
  },
  {
   "cell_type": "code",
   "execution_count": 8,
   "metadata": {
    "deletable": false,
    "editable": false,
    "nbgrader": {
     "checksum": "5f26936e4e48f4269de0e6d911805788",
     "grade": false,
     "grade_id": "import-mooc",
     "locked": true,
     "schema_version": 1,
     "solution": false
    }
   },
   "outputs": [],
   "source": [
    "# Import module to check answers.\n",
    "import mooc"
   ]
  },
  {
   "cell_type": "markdown",
   "metadata": {
    "deletable": false,
    "editable": false,
    "nbgrader": {
     "checksum": "50927b0543e998c48b34a3a4e6bdd62b",
     "grade": false,
     "grade_id": "assessment-instructions",
     "locked": true,
     "schema_version": 1,
     "solution": false
    }
   },
   "source": [
    "Answer questions in this section."
   ]
  },
  {
   "cell_type": "markdown",
   "metadata": {
    "deletable": false,
    "editable": false,
    "nbgrader": {
     "checksum": "8f0cf8e3815f90d2d612f598b1e88d2c",
     "grade": false,
     "grade_id": "question-1",
     "locked": true,
     "schema_version": 1,
     "solution": false
    }
   },
   "source": [
    "1. At time $t=3.2s$, what is the mass (in kg) of rocket propellant remaining in the rocket? \n",
    "\n",
    "_Instructions:_\n",
    "\n",
    "* Store the value of the remaining propellant using a variable called `m_p`.\n",
    "You can call the function `mooc.check('hw1_answer1', m_p)` to check you got the correct answer. The function will print `'Good job!'` if you got it right, `'Try again!'` otherwise."
   ]
  },
  {
   "cell_type": "code",
   "execution_count": 9,
   "metadata": {
    "deletable": false,
    "nbgrader": {
     "checksum": "8377f92022b9e65f04fdc7452b81f80b",
     "grade": false,
     "grade_id": "propellant",
     "locked": false,
     "schema_version": 1,
     "solution": true
    }
   },
   "outputs": [
    {
     "name": "stdout",
     "output_type": "stream",
     "text": [
      "[hw1_answer1] Good job!\n"
     ]
    }
   ],
   "source": [
    "t1 = 3.2\n",
    "m_p = mp0 - mpr(3.2)*t1\n",
    "mooc.check('hw1_answer1',m_p)"
   ]
  },
  {
   "cell_type": "code",
   "execution_count": null,
   "metadata": {
    "deletable": false,
    "editable": false,
    "nbgrader": {
     "checksum": "831f4a886f65dadcaa7e5ad399a9e8c3",
     "grade": true,
     "grade_id": "propellant-checks",
     "locked": true,
     "points": 10,
     "schema_version": 1,
     "solution": false
    }
   },
   "outputs": [],
   "source": []
  },
  {
   "cell_type": "markdown",
   "metadata": {
    "deletable": false,
    "editable": false,
    "nbgrader": {
     "checksum": "f79234a21d625e23ceb24af638c8f796",
     "grade": false,
     "grade_id": "question-2",
     "locked": true,
     "schema_version": 1,
     "solution": false
    }
   },
   "source": [
    "2. What is the maximum speed of the rocket in $\\frac{m}{s}$? At what time does this occur (in seconds)? What is the altitude at this time (in meters)?\n",
    "\n",
    "_Instructions:_\n",
    "\n",
    "* Store the maximum speed in the variable `vmax`, check your answer with `mooc.check('hw1_answer2', vmax)`.\n",
    "* Store the time in `t_vmax`, check your answer with `mooc.check('hw1_answer3', t_vmax)`.\n",
    "* Store the altitude in the variable `h_vmax`, check your answer with `mooc.check('hw1_answer4', h_vmax)`."
   ]
  },
  {
   "cell_type": "code",
   "execution_count": 10,
   "metadata": {
    "deletable": false,
    "nbgrader": {
     "checksum": "0eff12db008af86a36ac5a9459902185",
     "grade": false,
     "grade_id": "max-speed",
     "locked": false,
     "schema_version": 1,
     "solution": true
    }
   },
   "outputs": [
    {
     "name": "stdout",
     "output_type": "stream",
     "text": [
      "[hw1_answer2] Good job!\n",
      "[hw1_answer3] Good job!\n",
      "[hw1_answer4] Good job!\n"
     ]
    }
   ],
   "source": [
    "vmax = max(u[:,0])\n",
    "\n",
    "for n in range (N - 1):\n",
    "    if u[n,0] == vmax:\n",
    "        break\n",
    "    \n",
    "\n",
    "T_hmax = n\n",
    "t_vmax = T_hmax*dt\n",
    "h_vmax = u[int(5/dt), 1]\n",
    "\n",
    "mooc.check('hw1_answer2', vmax)\n",
    "mooc.check('hw1_answer3', t_vmax)\n",
    "mooc.check('hw1_answer4', h_vmax)"
   ]
  },
  {
   "cell_type": "code",
   "execution_count": null,
   "metadata": {
    "deletable": false,
    "editable": false,
    "nbgrader": {
     "checksum": "ca9d2e1113d82dfd9db72091e4eb0c1d",
     "grade": true,
     "grade_id": "max-speed-checks",
     "locked": true,
     "points": 30,
     "schema_version": 1,
     "solution": false
    }
   },
   "outputs": [],
   "source": []
  },
  {
   "cell_type": "markdown",
   "metadata": {
    "deletable": false,
    "editable": false,
    "nbgrader": {
     "checksum": "6c621351ba97b5ebcc437dbc70c8fbc2",
     "grade": false,
     "grade_id": "question-3",
     "locked": true,
     "schema_version": 1,
     "solution": false
    }
   },
   "source": [
    "3. What is the rocket's maximum altitude during flight (in meters)? At what time (in seconds) does this occur?\n",
    "\n",
    "_Instructions:_\n",
    "\n",
    "* Store the maximum altitude in the variable `hmax`, check your answer with `mooc.check('hw1_answer5', hmax)`.\n",
    "* Store the time in the variable `t_hmax`, check your answer with `mooc.check('hw1_answer6', t_hmax)`."
   ]
  },
  {
   "cell_type": "code",
   "execution_count": 11,
   "metadata": {
    "deletable": false,
    "nbgrader": {
     "checksum": "b769834d102e33bf1534bb3c39fbc0c8",
     "grade": false,
     "grade_id": "max-altitude",
     "locked": false,
     "schema_version": 1,
     "solution": true
    }
   },
   "outputs": [
    {
     "name": "stdout",
     "output_type": "stream",
     "text": [
      "[hw1_answer5] Good job!\n",
      "[hw1_answer6] Good job!\n"
     ]
    }
   ],
   "source": [
    "hmax = max(u[:,1])\n",
    "\n",
    "for n in range(N-1):\n",
    "    if u[n,1] == hmax:\n",
    "        break\n",
    "\n",
    "T_hmax = n\n",
    "t_hmax = T_hmax*dt\n",
    "\n",
    "mooc.check('hw1_answer5', hmax)\n",
    "mooc.check('hw1_answer6', t_hmax)"
   ]
  },
  {
   "cell_type": "code",
   "execution_count": null,
   "metadata": {
    "deletable": false,
    "editable": false,
    "nbgrader": {
     "checksum": "c2eb92d96bbab65a8c4522fc1b13cf2f",
     "grade": true,
     "grade_id": "max-altitude-checks",
     "locked": true,
     "points": 20,
     "schema_version": 1,
     "solution": false
    }
   },
   "outputs": [],
   "source": []
  },
  {
   "cell_type": "markdown",
   "metadata": {
    "deletable": false,
    "editable": false,
    "nbgrader": {
     "checksum": "7edf4d8878e3717b579099937e242cea",
     "grade": false,
     "grade_id": "question-4",
     "locked": true,
     "schema_version": 1,
     "solution": false
    }
   },
   "source": [
    "4. At what time (in seconds) does the rocket impact the ground? What is the velocity of the rocket (in $\\frac{m}{s}$) at time of impact?\n",
    "\n",
    "_Instructions:_\n",
    "\n",
    "* Store the time of impact in the variable `t_impact`, check your answer with `mooc.check('hw1_answer7', t_impact)`.\n",
    "* Store the impact velocity in the variable `v_impact`, check your answer with `mooc.check('hw1_answer8', v_impace)`."
   ]
  },
  {
   "cell_type": "code",
   "execution_count": 12,
   "metadata": {
    "deletable": false,
    "nbgrader": {
     "checksum": "1eba55fe393b33dac22f368b27d7b9a5",
     "grade": false,
     "grade_id": "impact",
     "locked": false,
     "schema_version": 1,
     "solution": true
    }
   },
   "outputs": [
    {
     "name": "stdout",
     "output_type": "stream",
     "text": [
      "[hw1_answer7] Good job!\n",
      "[hw1_answer8] Try again!\n"
     ]
    }
   ],
   "source": [
    "IP = np.where(h<0.0) [0][0]\n",
    "ta, tb = t[IP-1], t[IP]\n",
    "va, vb = v[IP-1], v[IP]\n",
    "ha, hb = h[IP-1], h[IP]\n",
    "\n",
    "Timpact = np.interp(0.0, [hb, ha], [tb, ta])\n",
    "Vimpact = np.interp(Timpact, [ta, tb], [va, vb])\n",
    "\n",
    "mooc.check('hw1_answer7', Timpact)\n",
    "mooc.check('hw1_answer8', Vimpact)"
   ]
  },
  {
   "cell_type": "code",
   "execution_count": null,
   "metadata": {
    "deletable": false,
    "editable": false,
    "nbgrader": {
     "checksum": "1d533033ed6dfbe2163b7f42fb6f1bfc",
     "grade": true,
     "grade_id": "impact-checks",
     "locked": true,
     "points": 20,
     "schema_version": 1,
     "solution": false
    }
   },
   "outputs": [],
   "source": []
  },
  {
   "cell_type": "markdown",
   "metadata": {},
   "source": [
    "---"
   ]
  },
  {
   "cell_type": "markdown",
   "metadata": {
    "deletable": false,
    "editable": false,
    "nbgrader": {
     "checksum": "1809d1d179785a34af384cc5102dd919",
     "grade": false,
     "grade_id": "derivation-section",
     "locked": true,
     "schema_version": 1,
     "solution": false
    }
   },
   "source": [
    "## Derivation of the rocket equations"
   ]
  },
  {
   "cell_type": "markdown",
   "metadata": {
    "deletable": false,
    "editable": false,
    "nbgrader": {
     "checksum": "eebff772a919507ed02f3702d7fc1358",
     "grade": false,
     "grade_id": "derivation",
     "locked": true,
     "schema_version": 1,
     "solution": false
    }
   },
   "source": [
    "In case you are kind of confused about the rocket equations, here we show how to get to them. \n",
    "\n",
    "Newton's second law states that the acceleration of the vehicle times its mass is equal to all the forces acting on it. Therefore,\n",
    "\n",
    "\\begin{equation}\n",
    "(m_s + m_p)\\frac{d\\bf{v}}{dt}=\\sum {\\bf F}.\n",
    "\\end{equation}\n",
    "In the above formula we have assumed that the propellant inside the rocket and the rocket move at the same velocity (in other words, their relative velocity is negligible). \n",
    "\n",
    "Two of the external forces acting on the rocket are,\n",
    "\n",
    "\\begin{align}\n",
    "{\\bf F}_g&= (m_s+m_p)\\bf{g} \\quad (\\rm{Gravity}),\\\\\n",
    "{\\bf F}_d&= - \\frac{1}{2} \\rho_a \\mathbf{v} |\\mathbf{v}| A  C_D \\quad (\\rm{Drag}).\n",
    "\\end{align}\n",
    "\n",
    "We also need to consider the force resulting from the ejection of the propellant. During an interval $dt$, the engine of the rocket ejects downwards a mass of propellant given by $\\dot m_p dt$. Relative to the rocket, the speed of the ejected burning gas is assumed constant and equal to $v_e$ (the exhaust speed). The momentum variation induced on the exhaust gas by the engine during that interval is therefore, $d{\\bf p}_{gas} = \\dot m_p {\\bf v}_e dt$. Again using Newton's second law we conclude that the force applied by the rocket on the gas is,\n",
    "\n",
    "\\begin{align}\n",
    "{\\bf F}_{rocket\\rightarrow gas} = \\frac{d{\\bf p}_{gas}}{dt} = \\dot m_p {\\bf v}_e\n",
    "\\end{align}\n",
    "\n",
    "Using Newton's third law (|action| = |reaction|), the force exerted by the exhaust gas on the rocket is then,\n",
    "\n",
    "\\begin{align}\n",
    "{\\bf F}_{gas\\rightarrow rocket} = -{\\bf F}_{rocket\\rightarrow gas} = -\\dot m_p {\\bf v}_e\n",
    "\\end{align}\n",
    "\n",
    "If we collect all the forces acting on the rocket we finally have:\n",
    "\n",
    "\\begin{align}\n",
    "(m_s + m_p)\\frac{d\\bf{v}}{dt}=(m_s+m_p){\\bf g}- \\frac{1}{2} \\rho_a \\mathbf{v} |v| A  C_D -\\dot m_p {\\bf v}_e\n",
    "\\end{align}\n",
    "\n"
   ]
  },
  {
   "cell_type": "markdown",
   "metadata": {},
   "source": [
    "---\n",
    "\n",
    "###### The cell below loads the style of the notebook."
   ]
  },
  {
   "cell_type": "code",
   "execution_count": 13,
   "metadata": {
    "deletable": false,
    "editable": false,
    "nbgrader": {
     "checksum": "c6302010fe7a9b827466a71d4c7ab87b",
     "grade": false,
     "grade_id": "load-style",
     "locked": true,
     "schema_version": 1,
     "solution": false
    }
   },
   "outputs": [
    {
     "data": {
      "text/html": [
       "<link href='http://fonts.googleapis.com/css?family=Alegreya+Sans:100,300,400,500,700,800,900,100italic,300italic,400italic,500italic,700italic,800italic,900italic' rel='stylesheet' type='text/css'>\n",
       "<link href='http://fonts.googleapis.com/css?family=Arvo:400,700,400italic' rel='stylesheet' type='text/css'>\n",
       "<link href='http://fonts.googleapis.com/css?family=PT+Mono' rel='stylesheet' type='text/css'>\n",
       "<link href='http://fonts.googleapis.com/css?family=Shadows+Into+Light' rel='stylesheet' type='text/css'>\n",
       "<link href='http://fonts.googleapis.com/css?family=Nixie+One' rel='stylesheet' type='text/css'>\n",
       "<link href='https://fonts.googleapis.com/css?family=Source+Code+Pro' rel='stylesheet' type='text/css'>\n",
       "<style>\n",
       "\n",
       "@font-face {\n",
       "    font-family: \"Computer Modern\";\n",
       "    src: url('http://mirrors.ctan.org/fonts/cm-unicode/fonts/otf/cmunss.otf');\n",
       "}\n",
       "\n",
       "#notebook_panel { /* main background */\n",
       "    background: rgb(245,245,245);\n",
       "}\n",
       "\n",
       "div.cell { /* set cell width */\n",
       "    width: 750px;\n",
       "}\n",
       "\n",
       "div #notebook { /* centre the content */\n",
       "    background: #fff; /* white background for content */\n",
       "    width: 1000px;\n",
       "    margin: auto;\n",
       "    padding-left: 0em;\n",
       "}\n",
       "\n",
       "#notebook li { /* More space between bullet points */\n",
       "    margin-top:0.8em;\n",
       "}\n",
       "\n",
       "/* draw border around running cells */\n",
       "div.cell.border-box-sizing.code_cell.running { \n",
       "    border: 1px solid #111;\n",
       "}\n",
       "\n",
       "/* Put a solid color box around each cell and its output, visually linking them*/\n",
       "div.cell.code_cell {\n",
       "    background-color: rgb(256,256,256); \n",
       "    border-radius: 0px; \n",
       "    padding: 0.5em;\n",
       "    margin-left:1em;\n",
       "    margin-top: 1em;\n",
       "}\n",
       "\n",
       "div.text_cell_render{\n",
       "    font-family: 'Alegreya Sans' sans-serif;\n",
       "    line-height: 140%;\n",
       "    font-size: 125%;\n",
       "    font-weight: 400;\n",
       "    width:600px;\n",
       "    margin-left:auto;\n",
       "    margin-right:auto;\n",
       "}\n",
       "\n",
       "\n",
       "/* Formatting for header cells */\n",
       ".text_cell_render h1 {\n",
       "    font-family: 'Nixie One', serif;\n",
       "    font-style:regular;\n",
       "    font-weight: 400;    \n",
       "    font-size: 45pt;\n",
       "    line-height: 100%;\n",
       "    color: rgb(0,51,102);\n",
       "    margin-bottom: 0.5em;\n",
       "    margin-top: 0.5em;\n",
       "    display: block;\n",
       "}\n",
       "\n",
       ".text_cell_render h2 {\n",
       "    font-family: 'Nixie One', serif;\n",
       "    font-weight: 400;\n",
       "    font-size: 30pt;\n",
       "    line-height: 100%;\n",
       "    color: rgb(0,51,102);\n",
       "    margin-bottom: 0.1em;\n",
       "    margin-top: 0.3em;\n",
       "    display: block;\n",
       "}\t\n",
       "\n",
       ".text_cell_render h3 {\n",
       "    font-family: 'Nixie One', serif;\n",
       "    margin-top:16px;\n",
       "    font-size: 22pt;\n",
       "    font-weight: 600;\n",
       "    margin-bottom: 3px;\n",
       "    font-style: regular;\n",
       "    color: rgb(102,102,0);\n",
       "}\n",
       "\n",
       ".text_cell_render h4 {    /*Use this for captions*/\n",
       "    font-family: 'Nixie One', serif;\n",
       "    font-size: 14pt;\n",
       "    text-align: center;\n",
       "    margin-top: 0em;\n",
       "    margin-bottom: 2em;\n",
       "    font-style: regular;\n",
       "}\n",
       "\n",
       ".text_cell_render h5 {  /*Use this for small titles*/\n",
       "    font-family: 'Nixie One', sans-serif;\n",
       "    font-weight: 400;\n",
       "    font-size: 16pt;\n",
       "    color: rgb(163,0,0);\n",
       "    font-style: italic;\n",
       "    margin-bottom: .1em;\n",
       "    margin-top: 0.8em;\n",
       "    display: block;\n",
       "}\n",
       "\n",
       ".text_cell_render h6 { /*use this for copyright note*/\n",
       "    font-family: 'PT Mono', sans-serif;\n",
       "    font-weight: 300;\n",
       "    font-size: 9pt;\n",
       "    line-height: 100%;\n",
       "    color: grey;\n",
       "    margin-bottom: 1px;\n",
       "    margin-top: 1px;\n",
       "}\n",
       "\n",
       ".CodeMirror{\n",
       "    font-family: \"Source Code Pro\";\n",
       "    font-size: 90%;\n",
       "}\n",
       "\n",
       ".alert-box {\n",
       "    padding:10px 10px 10px 36px;\n",
       "    margin:5px;\n",
       "}\n",
       "\n",
       ".success {\n",
       "    color:#666600;\n",
       "    background:rgb(240,242,229);\n",
       "}\n",
       "</style>\n",
       "\n",
       "<script>\n",
       "    MathJax.Hub.Config({\n",
       "                        TeX: {\n",
       "                            extensions: [\"AMSmath.js\"],\n",
       "                            equationNumbers: { autoNumber: \"AMS\", useLabelIds: true}\n",
       "                            },\n",
       "                        tex2jax: {\n",
       "                            inlineMath: [ ['$','$'], [\"\\\\(\",\"\\\\)\"] ],\n",
       "                            displayMath: [ ['$$','$$'], [\"\\\\[\",\"\\\\]\"] ]\n",
       "                            },\n",
       "                        displayAlign: 'center', // Change this to 'center' to center equations.\n",
       "                        \"HTML-CSS\": {\n",
       "                            styles: {'.MathJax_Display': {\"margin\": 4}}\n",
       "                            }\n",
       "                        });\n",
       "    MathJax.Hub.Queue(\n",
       "                      [\"resetEquationNumbers\", MathJax.InputJax.TeX],\n",
       "                      [\"PreProcess\", MathJax.Hub],\n",
       "                      [\"Reprocess\", MathJax.Hub]\n",
       "                     );\n",
       "</script>\n"
      ],
      "text/plain": [
       "<IPython.core.display.HTML object>"
      ]
     },
     "execution_count": 13,
     "metadata": {},
     "output_type": "execute_result"
    }
   ],
   "source": [
    "from IPython.core.display import HTML\n",
    "css_file = './styles/numericalmoocstyle.css'\n",
    "HTML(open(css_file, 'r').read())"
   ]
  }
 ],
 "metadata": {
  "kernelspec": {
   "display_name": "Python 3",
   "language": "python",
   "name": "python3"
  },
  "language_info": {
   "codemirror_mode": {
    "name": "ipython",
    "version": 3
   },
   "file_extension": ".py",
   "mimetype": "text/x-python",
   "name": "python",
   "nbconvert_exporter": "python",
   "pygments_lexer": "ipython3",
   "version": "3.6.2"
  }
 },
 "nbformat": 4,
 "nbformat_minor": 1
}
