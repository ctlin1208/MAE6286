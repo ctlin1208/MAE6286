{
 "cells": [
  {
   "cell_type": "code",
   "execution_count": 1,
   "metadata": {},
   "outputs": [],
   "source": [
    "import math as mat\n",
    "import numpy as np\n",
    "from matplotlib import pyplot as plt\n",
    "%matplotlib inline"
   ]
  },
  {
   "cell_type": "code",
   "execution_count": 2,
   "metadata": {},
   "outputs": [],
   "source": [
    "plt.rcParams['font.family']='serif'\n",
    "plt.rcParams['font.size']=16"
   ]
  },
  {
   "cell_type": "code",
   "execution_count": 3,
   "metadata": {},
   "outputs": [],
   "source": [
    "#parameters\n",
    "g = 9.81            #gracitational acceleration\n",
    "vt = 4.9            #trim velocity\n",
    "CD = 1.0/ 5.0       #drag coefficient\n",
    "CL = 1.0            #ligt coefficient\n",
    "\n",
    "#initial conditions\n",
    "v0 = 6.5            #start at the trim velocity\n",
    "theta0 = -0.1       #trajectory angle\n",
    "x0 = 0.0            #horizontal position\n",
    "y0 = 25            #vertical position (altitude)"
   ]
  },
  {
   "cell_type": "code",
   "execution_count": 4,
   "metadata": {},
   "outputs": [],
   "source": [
    "def rhs_phugoid(u, CL, CD, g, vt):\n",
    "    v, theta, x, y = u\n",
    "    rhs = np.array([-g * mat.sin(theta) - CD / CL * g / vt**2 * v**2,\n",
    "                       -g * mat.cos(theta) / v + g / vt**2 * v,\n",
    "                       v * mat.cos(theta),\n",
    "                       v * mat.sin(theta)])\n",
    "    return rhs"
   ]
  },
  {
   "cell_type": "code",
   "execution_count": 5,
   "metadata": {},
   "outputs": [],
   "source": [
    "def euler_step(u, f, dt, *args):\n",
    "    u_new = u + dt * f(u, *args)\n",
    "    return u_new"
   ]
  },
  {
   "cell_type": "code",
   "execution_count": 6,
   "metadata": {},
   "outputs": [],
   "source": [
    "def l1_diff(u_coarse, u_fine, dt):\n",
    "    N_coarse = u_coarse.shape[0]\n",
    "    N_fine = u_fine.shape[0]\n",
    "    ratio = mat.ceil(N_fine / N_coarse)\n",
    "    diff = dt * np.sum(np.abs(u_coarse - u_fine[::ratio]))\n",
    "    return diff"
   ]
  },
  {
   "cell_type": "code",
   "execution_count": 7,
   "metadata": {},
   "outputs": [],
   "source": [
    "def rk2_step(u, f, dt, *args):\n",
    "    u_star = u + 0.5 * dt * f(u, *args)\n",
    "    u_new = u + dt * f(u_star, *args)\n",
    "    return u_new"
   ]
  },
  {
   "cell_type": "code",
   "execution_count": 23,
   "metadata": {},
   "outputs": [],
   "source": [
    "T = 36  # length of the time interval\n",
    "dt = 0.01  # time-step size\n",
    "N = int(T / dt) + 1  # number of time steps\n",
    "\n",
    "# Create arrays to store the solution at each time step.\n",
    "u_euler = np.empty((N, 4))\n",
    "u_rk2 = np.empty((N, 4))\n",
    "\n",
    "# Set the initial conditions.\n",
    "u_euler[0] = np.array([v0, theta0, x0, y0])\n",
    "u_rk2[0] = np.array([v0, theta0, x0, y0])\n",
    "\n",
    "# Time integration with both method.\n",
    "for n in range(N - 1):\n",
    "    u_euler[n + 1] = euler_step(u_euler[n], rhs_phugoid, dt,\n",
    "                                CL, CD, g, vt)\n",
    "    u_rk2[n + 1] = rk2_step(u_rk2[n], rhs_phugoid, dt,\n",
    "                            CL, CD, g, vt)"
   ]
  },
  {
   "cell_type": "code",
   "execution_count": 24,
   "metadata": {},
   "outputs": [],
   "source": [
    "#get the glider's position over the time\n",
    "x_euler = u_euler[:, 2]\n",
    "y_euler = u_euler[:, 3]\n",
    "x_rk2 = u_rk2[:, 2]\n",
    "y_rk2 = u_rk2[:, 3]"
   ]
  },
  {
   "cell_type": "code",
   "execution_count": 25,
   "metadata": {},
   "outputs": [],
   "source": [
    "#get the index of the first negative element of y_euler\n",
    "idx_negative_euler = np.where(y_euler < 0.0)[0]\n",
    "if len(idx_negative_euler) ==0:    #length of the array is 0\n",
    "    idx_ground_euler = N - 1   # last index\n",
    "    print('[Euler]Glider has not touched ground yet!')\n",
    "else:\n",
    "    idx_ground_euler = idx_negative_euler[0]\n",
    "    \n",
    "#get the index of the first negative element of y_rk2\n",
    "idx_negative_rk2 = np.where(y_rk2 < 0.0)[0]\n",
    "if len(idx_negative_rk2) == 0:\n",
    "    idx_ground_rk2 = N - 1\n",
    "    print('[RK1] Glider has not toughed ground yet!')\n",
    "else:\n",
    "    idx_ground_rk2 = idx_negative_rk2[0]"
   ]
  },
  {
   "cell_type": "code",
   "execution_count": 26,
   "metadata": {},
   "outputs": [
    {
     "name": "stdout",
     "output_type": "stream",
     "text": [
      "Are the x-values close? False\n",
      "Are the y-values close? False\n"
     ]
    }
   ],
   "source": [
    "#check if to two cheme leads to the same numerical solutions\n",
    "print('Are the x-values close? {}'.format(np.allclose(x_euler, x_rk2)))\n",
    "print('Are the y-values close? {}'.format(np.allclose(y_euler, y_rk2)))"
   ]
  },
  {
   "cell_type": "code",
   "execution_count": 27,
   "metadata": {},
   "outputs": [
    {
     "name": "stdout",
     "output_type": "stream",
     "text": [
      "Distance traveled: 14.516\n"
     ]
    },
    {
     "data": {
      "image/png": "[encoded data removed]",
      "text/plain": [
       "<Figure size 648x432 with 2 Axes>"
      ]
     },
     "metadata": {},
     "output_type": "display_data"
    }
   ],
   "source": [
    "print('Distance traveled: {:.3f}'.format(x_rk2[idx_ground_rk2 - 1]))\n",
    "\n",
    "# Plot the glider's path for both schemes.\n",
    "plt.figure(figsize=(9.0, 6.0))\n",
    "plt.subplot(121)\n",
    "plt.grid()\n",
    "plt.xlabel('x')\n",
    "plt.ylabel('y')\n",
    "plt.plot(x_euler[:idx_ground_euler], y_euler[:idx_ground_euler],\n",
    "            label='Euler')\n",
    "plt.plot(x_rk2[:idx_ground_rk2], y_rk2[:idx_ground_rk2],\n",
    "            label='RK2')\n",
    "plt.legend();\n",
    "\n",
    "# Let's take a closer look!\n",
    "plt.subplot(122)\n",
    "plt.grid()\n",
    "plt.xlabel('x')\n",
    "plt.ylabel('y')\n",
    "plt.plot(x_euler, y_euler, label='Euler')\n",
    "plt.plot(x_rk2, y_rk2, label='RK2')\n",
    "plt.xlim(0.0, 5.0)\n",
    "plt.ylim(1.8, 2.5);"
   ]
  },
  {
   "cell_type": "code",
   "execution_count": 28,
   "metadata": {},
   "outputs": [],
   "source": [
    "#set the list of time-step sizes to investigate\n",
    "dt_values = [0.1, 0.05, 0.01, 0.005, 0.001]\n",
    "\n",
    "#create an empty list to store the solution for each time-step size\n",
    "u_values = []\n",
    "\n",
    "for dt in dt_values:\n",
    "    N = int(T/dt) + 1\n",
    "    \n",
    "    #initial conditions\n",
    "    u = np.empty((N, 4))\n",
    "    u[0] = np.array([v0, theta0, x0, y0])\n",
    "    \n",
    "    #time integration using RK2 method\n",
    "    for n in range(N - 1):\n",
    "        u[n + 1] = rk2_step(u[n], rhs_phugoid, dt, CL, CD, g, vt)\n",
    "    u_values.append(u)"
   ]
  },
  {
   "cell_type": "code",
   "execution_count": 29,
   "metadata": {},
   "outputs": [],
   "source": [
    "#compute the differences in the x-position for all grids\n",
    "diff_values = []\n",
    "for u, dt in zip(u_values, dt_values):\n",
    "    diff = l1_diff(u[:, 2], u_values[-1][:, 2], dt)\n",
    "    diff_values.append(diff)"
   ]
  },
  {
   "cell_type": "code",
   "execution_count": 30,
   "metadata": {
    "scrolled": false
   },
   "outputs": [
    {
     "data": {
      "text/plain": [
       "(0.004304458296658676,\n",
       " 0.11615863496415428,\n",
       " 0.00023807268554643213,\n",
       " 0.09159557154719004)"
      ]
     },
     "execution_count": 30,
     "metadata": {},
     "output_type": "execute_result"
    },
    {
     "data": {
      "image/png": "[encoded data removed]",
      "text/plain": [
       "<Figure size 432x432 with 1 Axes>"
      ]
     },
     "metadata": {},
     "output_type": "display_data"
    }
   ],
   "source": [
    "#plot difference versus the time-step size\n",
    "plt.figure(figsize=(6.0, 6.0))\n",
    "plt.title('L1-norm of the difference vs. time-step size')\n",
    "plt.xlabel('delta t')\n",
    "plt.ylabel('Difference')\n",
    "plt.grid()\n",
    "plt.loglog(dt_values[:-1], diff_values[:-1], linestyle='--', marker='o')\n",
    "plt.axis('equal')"
   ]
  },
  {
   "cell_type": "code",
   "execution_count": 31,
   "metadata": {},
   "outputs": [
    {
     "name": "stdout",
     "output_type": "stream",
     "text": [
      "Observed order of convergence: p = 1.989\n"
     ]
    }
   ],
   "source": [
    "r = 2\n",
    "h = 0.001\n",
    "\n",
    "dt_values = [h, r * h, r**2 * h]\n",
    "u_values = []\n",
    "\n",
    "for dt in dt_values:\n",
    "    N = int(T / dt) + 1\n",
    "    \n",
    "    # Set initial conditions\n",
    "    u = np.empty((N, 4))\n",
    "    u[0] = np.array([v0, theta0, x0, y0])\n",
    "    # Time integration using RK2.\n",
    "    for n in range(N - 1):\n",
    "        u[n + 1] = rk2_step(u[n], rhs_phugoid, dt, CL, CD, g, vt)\n",
    "        \n",
    "    # Store the solution for the present time grid\n",
    "    u_values.append(u)\n",
    "\n",
    "# Compute the observed order of convergence\n",
    "p = (mat.log(l1_diff(u_values[2], u_values[1], dt_values[2]) /\n",
    "              l1_diff(u_values[1], u_values[0], dt_values[1])) /\n",
    "     mat.log(r))\n",
    "\n",
    "print('Observed order of convergence: p = {:.3f}'.format(p))"
   ]
  },
  {
   "cell_type": "code",
   "execution_count": 32,
   "metadata": {},
   "outputs": [],
   "source": [
    "def leapfrog_step(u_prev, u, f, dt, *args):\n",
    "    u_new = u_prev + 2.0 * dt * f(u, *args)\n",
    "    return u_new"
   ]
  },
  {
   "cell_type": "code",
   "execution_count": 33,
   "metadata": {},
   "outputs": [],
   "source": [
    "#parameters\n",
    "g = 9.81                 # gravitational acceleration\n",
    "vt = 4.9                 # trim velocity\n",
    "CD = 1.0 / 5.0           # drag coefficient\n",
    "CL = 1.0                 # lift coefficient\n",
    "\n",
    "#initial conditions.\n",
    "v0 = 6.5                 # start at the trim velocity\n",
    "theta0 = -0.1            # trajectory angle\n",
    "x0 = 0.0                 # horizontal position\n",
    "y0 = 2.0                 # vertical position (altitude)\n",
    "\n",
    "T = 15.0                 # length of the time interval\n",
    "dt = 0.01                # time-step size\n",
    "N = int(T / dt) + 1      # number of time steps\n",
    "\n",
    "# Create arrays to store the solution at each time step\n",
    "u_leapfrog = np.empty((N, 4))\n",
    "\n",
    "#initial conditions\n",
    "u_leapfrog[0] = np.array([v0, theta0, x0, y0])\n",
    "\n",
    "# Use the RK2 method for the first time step\n",
    "u_leapfrog[1] = rk2_step(u_leapfrog[0], rhs_phugoid, dt, CL, CD, g, vt)"
   ]
  },
  {
   "cell_type": "code",
   "execution_count": 34,
   "metadata": {},
   "outputs": [],
   "source": [
    "# Time integration using the leapfrog method\n",
    "for n in range(1, N - 1):\n",
    "    u_leapfrog[n + 1] = leapfrog_step(u_leapfrog[n - 1], u_leapfrog[n],\n",
    "                                      rhs_phugoid, dt, CL, CD, g, vt)"
   ]
  },
  {
   "cell_type": "code",
   "execution_count": 35,
   "metadata": {},
   "outputs": [],
   "source": [
    "# Get the glider's position over the time\n",
    "x_leapfrog = u_leapfrog[:, 2]\n",
    "y_leapfrog = u_leapfrog[:, 3]\n",
    "\n",
    "# Get the index of the first negative element of y_leapfrog\n",
    "idx_negative_leapfrog = np.where(y_leapfrog < 0.0)[0]\n",
    "if len(idx_negative_leapfrog) == 0:\n",
    "    idx_ground_leapfrog = N - 1\n",
    "    print('[leapfrog] Glider has not touched ground yet!')\n",
    "else:\n",
    "    idx_ground_leapfrog = idx_negative_leapfrog[0]"
   ]
  },
  {
   "cell_type": "code",
   "execution_count": 36,
   "metadata": {},
   "outputs": [
    {
     "name": "stdout",
     "output_type": "stream",
     "text": [
      "Distance traveled: 14.516\n"
     ]
    },
    {
     "data": {
      "image/png": "[encoded data removed]",
      "text/plain": [
       "<Figure size 648x432 with 2 Axes>"
      ]
     },
     "metadata": {},
     "output_type": "display_data"
    }
   ],
   "source": [
    "print('Distance traveled: {:.3f}'.format(x_leapfrog[idx_ground_leapfrog - 1]))\n",
    "\n",
    "# Plot the glider's path for the leapfrog scheme\n",
    "plt.figure(figsize=(9.0, 6.0))\n",
    "plt.subplot(121)\n",
    "plt.grid()\n",
    "plt.xlabel('x')\n",
    "plt.ylabel('y')\n",
    "plt.plot(x_leapfrog[:idx_ground_leapfrog],\n",
    "            y_leapfrog[:idx_ground_leapfrog])\n",
    "\n",
    "# Let's take a closer look!\n",
    "plt.subplot(122)\n",
    "plt.grid()\n",
    "plt.xlabel('x')\n",
    "plt.ylabel('y')\n",
    "plt.plot(x_leapfrog, y_leapfrog)\n",
    "plt.xlim(0.0, 5.0)\n",
    "plt.ylim(1.8, 2.5);"
   ]
  },
  {
   "cell_type": "code",
   "execution_count": 37,
   "metadata": {},
   "outputs": [
    {
     "name": "stdout",
     "output_type": "stream",
     "text": [
      "Observed order of convergence: p = 2.187\n"
     ]
    }
   ],
   "source": [
    "r = 2\n",
    "h = 0.001\n",
    "\n",
    "dt_values = [h, r * h, r**2 * h]\n",
    "u_values = []\n",
    "\n",
    "for dt in dt_values:\n",
    "    N = int(T / dt) + 1\n",
    "    # Set initial conditions.\n",
    "    u = np.empty((N, 4))\n",
    "    u[0] = np.array([v0, theta0, x0, y0])\n",
    "    # Use RK2 for the first time step.\n",
    "    u[1] = rk2_step(u[0], rhs_phugoid, dt, CL, CD, g, vt)\n",
    "    \n",
    "    # Time integration using the leapfrog scheme.\n",
    "    for n in range(1, N - 1):\n",
    "        u[n + 1] = leapfrog_step(u[n - 1], u[n], rhs_phugoid, dt,\n",
    "                                 CL, CD, g, vt)\n",
    "    # Store the solution for the present time grid.\n",
    "    u_values.append(u)\n",
    "\n",
    "# Compute the observed order of convergence.\n",
    "p = (mat.log(l1_diff(u_values[2][:, 2], u_values[1][:, 2],\n",
    "                      dt_values[2]) /\n",
    "              l1_diff(u_values[1][:, 2], u_values[0][:, 2],\n",
    "                      dt_values[1])) /\n",
    "     mat.log(r))\n",
    "\n",
    "print('Observed order of convergence: p = {:.3f}'.format(p))"
   ]
  },
  {
   "cell_type": "code",
   "execution_count": null,
   "metadata": {},
   "outputs": [],
   "source": []
  }
 ],
 "metadata": {
  "kernelspec": {
   "display_name": "Python 3",
   "language": "python",
   "name": "python3"
  },
  "language_info": {
   "codemirror_mode": {
    "name": "ipython",
    "version": 3
   },
   "file_extension": ".py",
   "mimetype": "text/x-python",
   "name": "python",
   "nbconvert_exporter": "python",
   "pygments_lexer": "ipython3",
   "version": "3.6.2"
  }
 },
 "nbformat": 4,
 "nbformat_minor": 2
}
