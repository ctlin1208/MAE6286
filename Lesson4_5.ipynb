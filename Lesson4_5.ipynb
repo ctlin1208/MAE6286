{
 "cells": [
  {
   "cell_type": "code",
   "execution_count": 1,
   "metadata": {},
   "outputs": [],
   "source": [
    "import numpy\n",
    "from scipy import linalg"
   ]
  },
  {
   "cell_type": "code",
   "execution_count": 2,
   "metadata": {},
   "outputs": [],
   "source": [
    "def lhs_operator(N, sigma):\n",
    "    \"\"\"\n",
    "    Computes and returns the implicit operator\n",
    "    of the system for the 1D diffusion equation.\n",
    "    We use Crank-Nicolson method, Dirichlet condition\n",
    "    on the left side of the domain and zero-gradient\n",
    "    Neumann condition on the right side.\n",
    "    \n",
    "    Parameters\n",
    "    ----------\n",
    "    N : integer\n",
    "        Number of interior points.\n",
    "    sigma : float\n",
    "        Value of alpha * dt / dx**2.\n",
    "    \n",
    "    Returns\n",
    "    -------\n",
    "    A : numpy.ndarray\n",
    "        The implicit operator as a 2D array of floats\n",
    "        of size N by N.\n",
    "    \"\"\"\n",
    "    # Setup the diagonal of the operator.\n",
    "    D = numpy.diag(2.0 * (1.0 + 1.0 / sigma) * numpy.ones(N))\n",
    "    # Setup the Neumann condition for the last element.\n",
    "    D[-1, -1] = 1.0 + 2.0 / sigma\n",
    "    # Setup the upper diagonal of the operator.\n",
    "    U = numpy.diag(-1.0 * numpy.ones(N - 1), k=1)\n",
    "    # Setup the lower diagonal of the operator.\n",
    "    L = numpy.diag(-1.0 * numpy.ones(N - 1), k=-1)\n",
    "    # Assemble the operator.\n",
    "    A = D + U + L\n",
    "    return A"
   ]
  },
  {
   "cell_type": "code",
   "execution_count": 3,
   "metadata": {},
   "outputs": [],
   "source": [
    "def rhs_vector(T, sigma, qdx):\n",
    "    \"\"\"\n",
    "    Computes and returns the right-hand side of the system\n",
    "    for the 1D diffusion equation, using a Dirichlet condition\n",
    "    on the left side and a Neumann condition on the right side.\n",
    "    \n",
    "    Parameters\n",
    "    ----------\n",
    "    T : numpy.ndarray\n",
    "        The temperature distribution as a 1D array of floats.\n",
    "    sigma : float\n",
    "        Value of alpha * dt / dx**2.\n",
    "    qdx : float\n",
    "        Value of the temperature flux at the right side.\n",
    "    \n",
    "    Returns\n",
    "    -------\n",
    "    b : numpy.ndarray\n",
    "        The right-hand side of the system as a 1D array of floats.\n",
    "    \"\"\"\n",
    "    b = T[:-2] + 2.0 * (1.0 / sigma - 1.0) * T[1:-1] + T[2:]\n",
    "    # Set Dirichlet condition.\n",
    "    b[0] += T[0]\n",
    "    # Set Neumann condition.\n",
    "    b[-1] += qdx\n",
    "    return b"
   ]
  },
  {
   "cell_type": "code",
   "execution_count": 4,
   "metadata": {},
   "outputs": [],
   "source": [
    "def crank_nicolson(T0, nt, dt, dx, alpha, q):\n",
    "    \"\"\"\n",
    "    Computes and returns the temperature along the rod\n",
    "    after a given number of time steps.\n",
    "    \n",
    "    The function uses Crank-Nicolson method in time,\n",
    "    central differencing in space, a Dirichlet condition\n",
    "    on the left side, and a Neumann condition on the\n",
    "    right side.\n",
    "    \n",
    "    Parameters\n",
    "    ----------\n",
    "    T0 : numpy.ndarray\n",
    "        The initial temperature distribution as a 1D array of floats.\n",
    "    nt : integer\n",
    "        Number of time steps to compute.\n",
    "    dt : float\n",
    "        Time-step size.\n",
    "    dx : float\n",
    "        Distance between two consecutive locations.\n",
    "    alpha : float\n",
    "        Thermal diffusivity of the rod.\n",
    "    q : float\n",
    "        Value of the temperature gradient on the right side.\n",
    "    \n",
    "    Returns\n",
    "    -------\n",
    "    T : numpy.ndarray\n",
    "        The temperature distribution as a 1D array of floats.\n",
    "    \"\"\"\n",
    "    sigma = alpha * dt / dx**2\n",
    "    # Create the implicit operator of the system.\n",
    "    A = lhs_operator(len(T0) - 2, sigma)\n",
    "    # Integrate in time.\n",
    "    T = T0.copy()\n",
    "    for n in range(nt):\n",
    "        # Generate the right-hand side of the system.\n",
    "        b = rhs_vector(T, sigma, q * dx)\n",
    "        # Solve the system with scipy.linalg.solve.\n",
    "        T[1:-1] = linalg.solve(A, b)\n",
    "        # Apply the Neumann boundary condition.\n",
    "        T[-1] = T[-2] + q * dx\n",
    "    return T"
   ]
  },
  {
   "cell_type": "code",
   "execution_count": 5,
   "metadata": {},
   "outputs": [],
   "source": [
    "# Set parameters.\n",
    "L = 1.0  # length of the rod\n",
    "nx = 21  # number of points on the rod\n",
    "dx = L / (nx - 1)  # grid spacing\n",
    "alpha = 1.22e-3  # thermal diffusivity of the rod\n",
    "q = 0.0  # temperature gradient at the extremity\n",
    "\n",
    "# Define the locations on the rod.\n",
    "x = numpy.linspace(0.0, L, num=nx)\n",
    "\n",
    "# Set the initial temperature distribution.\n",
    "T0 = numpy.zeros(nx)\n",
    "T0[0] = 100.0\n"
   ]
  },
  {
   "cell_type": "code",
   "execution_count": 6,
   "metadata": {},
   "outputs": [
    {
     "name": "stdout",
     "output_type": "stream",
     "text": [
      "[[ 6. -1.  0.  0.  0.  0.  0.  0.  0.  0.  0.  0.  0.  0.  0.  0.  0.  0.\n",
      "   0.  0.]\n",
      " [-1.  6. -1.  0.  0.  0.  0.  0.  0.  0.  0.  0.  0.  0.  0.  0.  0.  0.\n",
      "   0.  0.]\n",
      " [ 0. -1.  6. -1.  0.  0.  0.  0.  0.  0.  0.  0.  0.  0.  0.  0.  0.  0.\n",
      "   0.  0.]\n",
      " [ 0.  0. -1.  6. -1.  0.  0.  0.  0.  0.  0.  0.  0.  0.  0.  0.  0.  0.\n",
      "   0.  0.]\n",
      " [ 0.  0.  0. -1.  6. -1.  0.  0.  0.  0.  0.  0.  0.  0.  0.  0.  0.  0.\n",
      "   0.  0.]\n",
      " [ 0.  0.  0.  0. -1.  6. -1.  0.  0.  0.  0.  0.  0.  0.  0.  0.  0.  0.\n",
      "   0.  0.]\n",
      " [ 0.  0.  0.  0.  0. -1.  6. -1.  0.  0.  0.  0.  0.  0.  0.  0.  0.  0.\n",
      "   0.  0.]\n",
      " [ 0.  0.  0.  0.  0.  0. -1.  6. -1.  0.  0.  0.  0.  0.  0.  0.  0.  0.\n",
      "   0.  0.]\n",
      " [ 0.  0.  0.  0.  0.  0.  0. -1.  6. -1.  0.  0.  0.  0.  0.  0.  0.  0.\n",
      "   0.  0.]\n",
      " [ 0.  0.  0.  0.  0.  0.  0.  0. -1.  6. -1.  0.  0.  0.  0.  0.  0.  0.\n",
      "   0.  0.]\n",
      " [ 0.  0.  0.  0.  0.  0.  0.  0.  0. -1.  6. -1.  0.  0.  0.  0.  0.  0.\n",
      "   0.  0.]\n",
      " [ 0.  0.  0.  0.  0.  0.  0.  0.  0.  0. -1.  6. -1.  0.  0.  0.  0.  0.\n",
      "   0.  0.]\n",
      " [ 0.  0.  0.  0.  0.  0.  0.  0.  0.  0.  0. -1.  6. -1.  0.  0.  0.  0.\n",
      "   0.  0.]\n",
      " [ 0.  0.  0.  0.  0.  0.  0.  0.  0.  0.  0.  0. -1.  6. -1.  0.  0.  0.\n",
      "   0.  0.]\n",
      " [ 0.  0.  0.  0.  0.  0.  0.  0.  0.  0.  0.  0.  0. -1.  6. -1.  0.  0.\n",
      "   0.  0.]\n",
      " [ 0.  0.  0.  0.  0.  0.  0.  0.  0.  0.  0.  0.  0.  0. -1.  6. -1.  0.\n",
      "   0.  0.]\n",
      " [ 0.  0.  0.  0.  0.  0.  0.  0.  0.  0.  0.  0.  0.  0.  0. -1.  6. -1.\n",
      "   0.  0.]\n",
      " [ 0.  0.  0.  0.  0.  0.  0.  0.  0.  0.  0.  0.  0.  0.  0.  0. -1.  6.\n",
      "  -1.  0.]\n",
      " [ 0.  0.  0.  0.  0.  0.  0.  0.  0.  0.  0.  0.  0.  0.  0.  0.  0. -1.\n",
      "   6. -1.]\n",
      " [ 0.  0.  0.  0.  0.  0.  0.  0.  0.  0.  0.  0.  0.  0.  0.  0.  0.  0.\n",
      "  -1.  5.]]\n"
     ]
    }
   ],
   "source": [
    "A = lhs_operator(nx - 1, 0.5)\n",
    "print(A)"
   ]
  },
  {
   "cell_type": "code",
   "execution_count": 7,
   "metadata": {},
   "outputs": [],
   "source": [
    "# Set the time-step size based on CFL limit.\n",
    "sigma = 0.5\n",
    "dt = sigma * dx**2 / alpha  # time-step size\n",
    "nt = 10  # number of time steps to compute\n",
    "\n",
    "# Compute the temperature distribution.\n",
    "T = crank_nicolson(T0, nt, dt, dx, alpha, q)"
   ]
  },
  {
   "cell_type": "code",
   "execution_count": 8,
   "metadata": {},
   "outputs": [],
   "source": [
    "from matplotlib import pyplot\n",
    "%matplotlib inline"
   ]
  },
  {
   "cell_type": "code",
   "execution_count": 9,
   "metadata": {},
   "outputs": [],
   "source": [
    "# Set the font family and size to use for Matplotlib figures.\n",
    "pyplot.rcParams['font.family'] = 'serif'\n",
    "pyplot.rcParams['font.size'] = 16"
   ]
  },
  {
   "cell_type": "code",
   "execution_count": 10,
   "metadata": {},
   "outputs": [
    {
     "data": {
      "image/png": "[encoded data removed]",
      "text/plain": [
       "<Figure size 432x288 with 1 Axes>"
      ]
     },
     "metadata": {},
     "output_type": "display_data"
    }
   ],
   "source": [
    "# Plot the temperature along the rod.\n",
    "pyplot.figure(figsize=(6.0, 4.0))\n",
    "pyplot.xlabel('Distance [m]')\n",
    "pyplot.ylabel('Temperature [C]')\n",
    "pyplot.grid()\n",
    "pyplot.plot(x, T, color='C0', linestyle='-', linewidth=2)\n",
    "pyplot.xlim(0.0, L)\n",
    "pyplot.ylim(0.0, 100.0);"
   ]
  },
  {
   "cell_type": "code",
   "execution_count": 11,
   "metadata": {},
   "outputs": [],
   "source": [
    "def analytical_temperature(x, t, alpha, L, N):\n",
    "    \"\"\"\n",
    "    Computes and returns a truncated approximation\n",
    "    of the exact temperature distribution along the rod.\n",
    "    \n",
    "    Parameters\n",
    "    ----------\n",
    "    x : numpy.ndarray\n",
    "        Locations at which to calculate the temperature\n",
    "        as a 1D array of floats.\n",
    "    t : float\n",
    "        Time.\n",
    "    alpha : float\n",
    "        Thermal diffusivity of the rod.\n",
    "    L : float\n",
    "        Length of the rod.\n",
    "    N : integer\n",
    "        Number of terms to use in the expansion.\n",
    "    \n",
    "    Returns\n",
    "    -------\n",
    "    T : numpy.ndarray\n",
    "        The truncated analytical temperature distribution\n",
    "        as a 1D array of floats.\n",
    "    \"\"\"\n",
    "    T = 100.0 * numpy.ones_like(x)\n",
    "    for n in range(1, N + 1):\n",
    "        k = (2 * n - 1) * numpy.pi / (2.0 * L)\n",
    "        T -= (400.0 / (2.0 * L * k) *\n",
    "              numpy.sin(k * x) * numpy.exp(- alpha * k**2 * t))\n",
    "    return T"
   ]
  },
  {
   "cell_type": "code",
   "execution_count": 12,
   "metadata": {},
   "outputs": [
    {
     "data": {
      "image/png": "[encoded data removed]",
      "text/plain": [
       "<Figure size 432x288 with 1 Axes>"
      ]
     },
     "metadata": {},
     "output_type": "display_data"
    }
   ],
   "source": [
    "# Compute the analytical temperature distribution.\n",
    "T_exact = analytical_temperature(x, nt * dt, alpha, L, 100)\n",
    "\n",
    "# Plot the numerical and analytical temperatures.\n",
    "pyplot.figure(figsize=(6.0, 4.0))\n",
    "pyplot.xlabel('Distance [m]')\n",
    "pyplot.ylabel('Temperature [C]')\n",
    "pyplot.grid()\n",
    "pyplot.plot(x, T, label='numerical',\n",
    "            color='C0', linestyle='-', linewidth=2)\n",
    "pyplot.plot(x, T_exact, label='analytical',\n",
    "            color='C1', linestyle='--', linewidth=2)\n",
    "pyplot.legend()\n",
    "pyplot.xlim(0.0, L)\n",
    "pyplot.ylim(0.0, 100.0);"
   ]
  },
  {
   "cell_type": "code",
   "execution_count": 13,
   "metadata": {},
   "outputs": [
    {
     "data": {
      "text/plain": [
       "6.927917118260093e-13"
      ]
     },
     "execution_count": 13,
     "metadata": {},
     "output_type": "execute_result"
    }
   ],
   "source": [
    "T1 = analytical_temperature(x, 0.2, alpha, L, 100)\n",
    "T2 = analytical_temperature(x, 0.2, alpha, L, 200)\n",
    "numpy.sqrt(numpy.sum((T1 - T2)**2) / numpy.sum(T2**2))"
   ]
  },
  {
   "cell_type": "code",
   "execution_count": 14,
   "metadata": {},
   "outputs": [],
   "source": [
    "def l2_error(T, T_exact):\n",
    "    \"\"\"\n",
    "    Computes and returns the relative L2-norm\n",
    "    of the difference between the numerical solution\n",
    "    and the exact solution.\n",
    "    \n",
    "    Parameters\n",
    "    ----------\n",
    "    T : numpy.ndarray\n",
    "        The numerical solution as an array of floats.\n",
    "    T_exact : numpy.ndarray\n",
    "        The exact solution as an array of floats.\n",
    "    \n",
    "    Returns\n",
    "    -------\n",
    "    error : float\n",
    "        The relative L2-norm of the difference.\n",
    "    \"\"\"\n",
    "    error = numpy.sqrt(numpy.sum((T - T_exact)**2) /\n",
    "                       numpy.sum(T_exact**2))\n",
    "    return error"
   ]
  },
  {
   "cell_type": "code",
   "execution_count": 15,
   "metadata": {},
   "outputs": [],
   "source": [
    "def lhs_operator_btcs(N, sigma):\n",
    "    \"\"\"\n",
    "    Computes and returns the implicit operator\n",
    "    of the system for the 1D diffusion equation.\n",
    "    We use backward Euler method, Dirichlet condition\n",
    "    on the left side of the domain and zero-gradient\n",
    "    Neumann condition on the right side.\n",
    "    \n",
    "    Parameters\n",
    "    ----------\n",
    "    N : integer\n",
    "        Number of interior points.\n",
    "    sigma : float\n",
    "        Value of alpha * dt / dx**2.\n",
    "    \n",
    "    Returns\n",
    "    -------\n",
    "    A : numpy.ndarray\n",
    "        The implicit operator as a 2D array of floats\n",
    "        of size N by N.\n",
    "    \"\"\"\n",
    "    # Setup the diagonal of the operator.\n",
    "    D = numpy.diag((2.0 + 1.0 / sigma) * numpy.ones(N))\n",
    "    # Setup the Neumann condition for the last element.\n",
    "    D[-1, -1] = 1.0 + 1.0 / sigma\n",
    "    # Setup the upper diagonal of the operator.\n",
    "    U = numpy.diag(-1.0 * numpy.ones(N - 1), k=1)\n",
    "    # Setup the lower diagonal of the operator.\n",
    "    L = numpy.diag(-1.0 * numpy.ones(N - 1), k=-1)\n",
    "    # Assemble the operator.\n",
    "    A = D + U + L\n",
    "    return A"
   ]
  },
  {
   "cell_type": "code",
   "execution_count": 16,
   "metadata": {},
   "outputs": [],
   "source": [
    "def rhs_vector_btcs(T, sigma, qdx):\n",
    "    \"\"\"\n",
    "    Computes and returns the right-hand side of the system\n",
    "    for the 1D diffusion equation, using a Dirichlet condition\n",
    "    on the left side and a Neumann condition on the right side.\n",
    "    \n",
    "    Parameters\n",
    "    ----------\n",
    "    T : numpy.ndarray\n",
    "        The temperature distribution as a 1D array of floats.\n",
    "    sigma : float\n",
    "        Value of alpha * dt / dx**2.\n",
    "    qdx : float\n",
    "        Value of the temperature flux at the right side.\n",
    "    \n",
    "    Returns\n",
    "    -------\n",
    "    b : numpy.ndarray\n",
    "        The right-hand side of the system as a 1D array of floats.\n",
    "    \"\"\"\n",
    "    b = T[1:-1] / sigma\n",
    "    # Set Dirichlet condition.\n",
    "    b[0] += T[0]\n",
    "    # Set Neumann condition.\n",
    "    b[-1] += qdx\n",
    "    return b"
   ]
  },
  {
   "cell_type": "code",
   "execution_count": 17,
   "metadata": {},
   "outputs": [],
   "source": [
    "def btcs_implicit(T0, nt, dt, dx, alpha, q):\n",
    "    \"\"\"\n",
    "    Computes and returns the temperature along the rod\n",
    "    after a given number of time steps.\n",
    "    \n",
    "    The function uses Euler implicit in time,\n",
    "    central differencing in space, a Dirichlet condition\n",
    "    on the left side, and a Neumann condition on the\n",
    "    right side.\n",
    "    \n",
    "    Parameters\n",
    "    ----------\n",
    "    T0 : numpy.ndarray\n",
    "        The initial temperature distribution\n",
    "        as a 1D array of floats.\n",
    "    nt : integer\n",
    "        Number of time steps to compute.\n",
    "    dt : float\n",
    "        Time-step size.\n",
    "    dx : float\n",
    "        Distance between two consecutive locations.\n",
    "    alpha : float\n",
    "        Thermal diffusivity of the rod.\n",
    "    q : float\n",
    "        Value of the temperature gradient on the right side.\n",
    "    \n",
    "    Returns\n",
    "    -------\n",
    "    T : numpy.ndarray\n",
    "        The temperature distribution as a 1D array of floats.\n",
    "    \"\"\"\n",
    "    sigma = alpha * dt / dx**2\n",
    "    # Create the implicit operator of the system.\n",
    "    A = lhs_operator_btcs(len(T0) - 2, sigma)\n",
    "    # Integrate in time.\n",
    "    T = T0.copy()\n",
    "    for n in range(nt):\n",
    "        # Generate the right-hand side of the system.\n",
    "        b = rhs_vector_btcs(T, sigma, q * dx)\n",
    "        # Solve the system with scipy.linalg.solve.\n",
    "        T[1:-1] = linalg.solve(A, b)\n",
    "        # Apply the Neumann boundary condition.\n",
    "        T[-1] = T[-2] + q * dx\n",
    "    return T"
   ]
  },
  {
   "cell_type": "code",
   "execution_count": 18,
   "metadata": {},
   "outputs": [],
   "source": [
    "# Update parameters.\n",
    "nx = 1001  # number of points on the rod\n",
    "dx = L / (nx - 1)  # grid spacing\n",
    "\n",
    "# Define the locations on the rod.\n",
    "x = numpy.linspace(0.0, L, num=nx)\n",
    "\n",
    "# Create a list with the time-step sizes to use.\n",
    "dt_values = [1.0, 0.5, 0.25, 0.125]\n",
    "\n",
    "# Create empty lists to hold the errors for both schemes.\n",
    "errors = []\n",
    "errors_btcs = []\n",
    "\n",
    "# Compute the initial temperature distribution at t=1.0.\n",
    "t0 = 1.0\n",
    "T0 = analytical_temperature(x, t0, alpha, L, 100)\n",
    "\n",
    "# Compute the final analytical temperature at t=10.0.\n",
    "t = 10.0\n",
    "T_exact = analytical_temperature(x, t, alpha, L, 100)\n",
    "\n",
    "# Compute the numerical solutions and errors.\n",
    "for dt in dt_values:\n",
    "    nt = int((t - t0) / dt)  # number of time steps\n",
    "    # Compute the solution using Crank-Nicolson scheme.\n",
    "    T = crank_nicolson(T0, nt, dt, dx, alpha, q)\n",
    "    # Compute and record the L2-norm of the error.\n",
    "    errors.append(l2_error(T, T_exact))\n",
    "    # Compute the solution using implicit BTCS scheme.\n",
    "    T = btcs_implicit(T0, nt, dt, dx, alpha, q)\n",
    "    # Compute and record the L2-norm of the error.\n",
    "    errors_btcs.append(l2_error(T, T_exact))"
   ]
  },
  {
   "cell_type": "code",
   "execution_count": 19,
   "metadata": {},
   "outputs": [
    {
     "data": {
      "image/png": "[encoded data removed]",
      "text/plain": [
       "<Figure size 432x432 with 1 Axes>"
      ]
     },
     "metadata": {},
     "output_type": "display_data"
    }
   ],
   "source": [
    "# Plot the error versus the time-step size.\n",
    "pyplot.figure(figsize=(6.0, 6.0))\n",
    "pyplot.grid()\n",
    "pyplot.xlabel(r'$\\Delta t$')\n",
    "pyplot.ylabel('Relative $L_2$-norm\\nof the error')\n",
    "pyplot.loglog(dt_values, errors, label='Crank-Nicolson',\n",
    "              color='black', linestyle='--', linewidth=2, marker='o')\n",
    "pyplot.loglog(dt_values, errors_btcs, label='BTCS (implicit)',\n",
    "              color='black', linestyle='--', linewidth=2, marker='s')\n",
    "pyplot.legend()\n",
    "pyplot.axis('equal');"
   ]
  },
  {
   "cell_type": "code",
   "execution_count": 20,
   "metadata": {},
   "outputs": [
    {
     "data": {
      "text/plain": [
       "[0.0005562525604234885,\n",
       " 0.00013745756447740593,\n",
       " 3.285170428463535e-05,\n",
       " 6.771647468652634e-06]"
      ]
     },
     "execution_count": 20,
     "metadata": {},
     "output_type": "execute_result"
    }
   ],
   "source": [
    "errors"
   ]
  },
  {
   "cell_type": "code",
   "execution_count": 21,
   "metadata": {},
   "outputs": [],
   "source": [
    "# Set parameters.\n",
    "dt = 0.1  # time-step size\n",
    "t = 20.0  # final time\n",
    "nt = int(t / dt)  # number of time steps to compute\n",
    "\n",
    "# Create a list with the grid-spacing sizes to use.\n",
    "nx_values = [11, 21, 41, 81, 161]\n",
    "\n",
    "# Create an empty list to store the errors.\n",
    "errors = []\n",
    "\n",
    "# Compute the numerical solutions and errors.\n",
    "for nx in nx_values:\n",
    "    dx = L / (nx - 1)  # grid spacing\n",
    "    x = numpy.linspace(0.0, L, num=nx)  # grid points\n",
    "    # Set the initial conditions for the grid.\n",
    "    T0 = numpy.zeros(nx)\n",
    "    T0[0] = 100.0\n",
    "    # Compute the solution using Crank-Nicolson scheme.\n",
    "    T = crank_nicolson(T0, nt, dt, dx, alpha, q)\n",
    "    # Compute the analytical solution.\n",
    "    T_exact = analytical_temperature(x, t, alpha, L, 100)\n",
    "    # Compute and record the L2-norm of the error.\n",
    "    errors.append(l2_error(T, T_exact))"
   ]
  },
  {
   "cell_type": "code",
   "execution_count": null,
   "metadata": {},
   "outputs": [
    {
     "data": {
      "image/png": "[encoded data removed]",
      "text/plain": [
       "<Figure size 432x432 with 1 Axes>"
      ]
     },
     "metadata": {},
     "output_type": "display_data"
    }
   ],
   "source": [
    "# Plot the error versus the grid-spacing size.\n",
    "pyplot.figure(figsize=(6.0, 6.0))\n",
    "pyplot.grid()\n",
    "pyplot.xlabel(r'$\\Delta x$')\n",
    "pyplot.ylabel('Relative $L_2$-norm\\nof the error')\n",
    "dx_values = L / (numpy.array(nx_values) - 1)\n",
    "pyplot.loglog(dx_values, errors,\n",
    "              color='black', linestyle='--', linewidth=2, marker='o')\n",
    "pyplot.axis('equal');"
   ]
  },
  {
   "cell_type": "code",
   "execution_count": null,
   "metadata": {},
   "outputs": [],
   "source": [
    "# Set parameters.\n",
    "dt = 0.1  # time-step size\n",
    "t = 1000.0  # final time\n",
    "nt = int(t / dt)  # number of time steps to compute\n",
    "\n",
    "# Create a list with the grid-spacing sizes to use.\n",
    "nx_values = [11, 21, 41, 81, 161]\n",
    "\n",
    "# Create an empty list to store the errors.\n",
    "errors = []\n",
    "\n",
    "# Compute the numerical solutions and errors.\n",
    "for nx in nx_values:\n",
    "    dx = L / (nx - 1)  # grid spacing\n",
    "    x = numpy.linspace(0.0, L, num=nx)  # grid points\n",
    "    # Set the initial conditions for the grid.\n",
    "    T0 = numpy.zeros(nx)\n",
    "    T0[0] = 100.0\n",
    "    # Compute the solution using Crank-Nicolson scheme.\n",
    "    T = crank_nicolson(T0, nt, dt, dx, alpha, q)\n",
    "    # Compute the analytical solution.\n",
    "    T_exact = analytical_temperature(x, t, alpha, L, 100)\n",
    "    # Compute and record the L2-norm of the error.\n",
    "    errors.append(l2_error(T, T_exact))"
   ]
  },
  {
   "cell_type": "code",
   "execution_count": null,
   "metadata": {},
   "outputs": [],
   "source": [
    "# Plot the error versus the grid-spacing size.\n",
    "pyplot.figure(figsize=(6.0, 6.0))\n",
    "pyplot.grid()\n",
    "pyplot.xlabel(r'$\\Delta x$')\n",
    "pyplot.ylabel('Relative $L_2$-norm\\nof the error')\n",
    "dx_values = L / (numpy.array(nx_values) - 1)\n",
    "pyplot.loglog(dx_values, errors,\n",
    "              color='black', linestyle='--', linewidth=2, marker='o')\n",
    "pyplot.axis('equal');"
   ]
  },
  {
   "cell_type": "code",
   "execution_count": null,
   "metadata": {},
   "outputs": [],
   "source": [
    "errors"
   ]
  },
  {
   "cell_type": "code",
   "execution_count": null,
   "metadata": {},
   "outputs": [],
   "source": []
  }
 ],
 "metadata": {
  "kernelspec": {
   "display_name": "Python 3",
   "language": "python",
   "name": "python3"
  },
  "language_info": {
   "codemirror_mode": {
    "name": "ipython",
    "version": 3
   },
   "file_extension": ".py",
   "mimetype": "text/x-python",
   "name": "python",
   "nbconvert_exporter": "python",
   "pygments_lexer": "ipython3",
   "version": "3.6.2"
  }
 },
 "nbformat": 4,
 "nbformat_minor": 2
}
