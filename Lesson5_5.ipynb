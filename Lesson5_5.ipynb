{
 "cells": [
  {
   "cell_type": "code",
   "execution_count": 1,
   "metadata": {},
   "outputs": [],
   "source": [
    "import numpy"
   ]
  },
  {
   "cell_type": "code",
   "execution_count": 2,
   "metadata": {},
   "outputs": [],
   "source": [
    "# Set parameters.\n",
    "nx, ny = 41, 41  # number of points in each direction\n",
    "L = 1.0  # length of the square cavity\n",
    "dx = L / (nx - 1)  # grid spacing in the x direction\n",
    "dy = L / (ny - 1)  # grid spacing in the y direction"
   ]
  },
  {
   "cell_type": "code",
   "execution_count": 3,
   "metadata": {},
   "outputs": [],
   "source": [
    "def l1_norm(u, u_ref):\n",
    "    \"\"\"\n",
    "    Computes and returns the L1-norm of the difference\n",
    "    between a solution u and a reference solution u_ref.\n",
    "\n",
    "    Parameters\n",
    "    ----------\n",
    "    u : numpy.ndarray\n",
    "        The solution as an array of floats.\n",
    "    u_ref : numpy.ndarray\n",
    "        The reference solution as an array of floats.\n",
    "\n",
    "    Returns\n",
    "    -------\n",
    "    diff : float\n",
    "        The L2-norm of the difference.\n",
    "    \"\"\"\n",
    "    diff = numpy.sum(numpy.abs(u - u_ref))\n",
    "    return diff"
   ]
  },
  {
   "cell_type": "code",
   "execution_count": null,
   "metadata": {},
   "outputs": [],
   "source": []
  }
 ],
 "metadata": {
  "kernelspec": {
   "display_name": "Python 3",
   "language": "python",
   "name": "python3"
  },
  "language_info": {
   "codemirror_mode": {
    "name": "ipython",
    "version": 3
   },
   "file_extension": ".py",
   "mimetype": "text/x-python",
   "name": "python",
   "nbconvert_exporter": "python",
   "pygments_lexer": "ipython3",
   "version": "3.6.2"
  }
 },
 "nbformat": 4,
 "nbformat_minor": 2
}
