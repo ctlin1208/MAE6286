{
 "cells": [
  {
   "cell_type": "code",
   "execution_count": 1,
   "metadata": {},
   "outputs": [],
   "source": [
    "import numpy\n",
    "import ipywidgets\n",
    "from matplotlib import pyplot\n",
    "%matplotlib inline"
   ]
  },
  {
   "cell_type": "code",
   "execution_count": 2,
   "metadata": {},
   "outputs": [],
   "source": [
    "pyplot.rcParams['font.family'] = 'serif'\n",
    "pyplot.rcParams['font.size'] = 16"
   ]
  },
  {
   "cell_type": "code",
   "execution_count": 3,
   "metadata": {},
   "outputs": [],
   "source": [
    "def rho_red_light(x, rho_max):\n",
    "    \n",
    "    rho = rho_max*numpy.ones_like(x)\n",
    "    mask = numpy.where(x < 3.0)\n",
    "    rho[mask] = 1/2*rho_max\n",
    "    return rho"
   ]
  },
  {
   "cell_type": "code",
   "execution_count": 4,
   "metadata": {},
   "outputs": [],
   "source": [
    "# Set parameters.\n",
    "nx = 81  # number of locations on the road\n",
    "L = 4.0  # length of the road\n",
    "dx = L / (nx - 1)  # distance between two consecutive locations\n",
    "nt = 40  # number of time steps to compute\n",
    "rho_max = 10.0  # maximum taffic density allowed\n",
    "u_max = 1.0  # maximum speed traffic\n",
    "\n",
    "# Get the road locations.\n",
    "x = numpy.linspace(0.0, L, num=nx)\n",
    "\n",
    "# Compute the initial traffic density.\n",
    "rho0 = rho_red_light(x, rho_max)"
   ]
  },
  {
   "cell_type": "code",
   "execution_count": 5,
   "metadata": {},
   "outputs": [
    {
     "data": {
      "image/png": "[encoded data removed]",
      "text/plain": [
       "<Figure size 432x288 with 1 Axes>"
      ]
     },
     "metadata": {},
     "output_type": "display_data"
    }
   ],
   "source": [
    "# Plot the initial traffic density.\n",
    "fig = pyplot.figure(figsize=(6.0, 4.0))\n",
    "pyplot.xlabel(r'$x$')\n",
    "pyplot.ylabel(r'$\\rho$')\n",
    "pyplot.grid()\n",
    "line = pyplot.plot(x, rho0,\n",
    "                   color='C0', linestyle='-', linewidth=2)[0]\n",
    "pyplot.xlim(0.0, L)\n",
    "pyplot.ylim(4.0, 11.0)\n",
    "pyplot.tight_layout()"
   ]
  },
  {
   "cell_type": "code",
   "execution_count": 6,
   "metadata": {},
   "outputs": [],
   "source": [
    "def flux(rho, u_max, rho_max):\n",
    "    \n",
    "    F = rho*u_max*(1.0 - rho/rho_max)\n",
    "    return F"
   ]
  },
  {
   "cell_type": "code",
   "execution_count": 7,
   "metadata": {},
   "outputs": [],
   "source": [
    "from matplotlib import animation\n",
    "from IPython.display import HTML"
   ]
  },
  {
   "cell_type": "code",
   "execution_count": 8,
   "metadata": {},
   "outputs": [],
   "source": [
    "def update_plot(n, rho_hist):\n",
    "    \n",
    "    fig.suptitle('Time step {:0>2}'.format(n))\n",
    "    line.set_ydata(rho_hist(n))"
   ]
  },
  {
   "cell_type": "code",
   "execution_count": 9,
   "metadata": {},
   "outputs": [],
   "source": [
    "#operate Las-Friedrichs scheme\n",
    "\n",
    "def lax_friedrichs(rho0, nt, dt, dx, bc_values, *args):\n",
    "    \n",
    "    rho_hist = [rho0.copy()]\n",
    "    rho = rho0.copy()\n",
    "    for n in range(nt):\n",
    "        # Compute the flux.\n",
    "        F = flux(rho, *args)\n",
    "        # Advance in time using Lax-Friedrichs scheme.\n",
    "        rho[1:-1] = (0.5 * (rho[:-2] + rho[2:]) -\n",
    "                     dt / (2.0 * dx) * (F[2:] - F[:-2]))\n",
    "        # Set the value at the first location.\n",
    "        rho[0] = bc_values[0]\n",
    "        # Set the value at the last location.\n",
    "        rho[-1] = bc_values[1]\n",
    "        # Record the time-step solution.\n",
    "        rho_hist.append(rho.copy())\n",
    "    return rho_hist"
   ]
  },
  {
   "cell_type": "code",
   "execution_count": 47,
   "metadata": {},
   "outputs": [],
   "source": [
    "def plot_density(n, rho_hist):\n",
    "    pyplot.figure(figsize = (8.0, 4.0))\n",
    "    pyplot.xlabel('Distance[km]')\n",
    "    pyplot.ylabel('Density[cars/km]')\n",
    "    pyplot.grid()\n",
    "    pyplot.plot(x, rho_hist[0], label='Initial')\n",
    "    pyplot.plot(x, rho_hist[n], label='Time step{}'.format(n))\n",
    "    pyplot.ylim(rho_hist[0].min() - 1.0, rho_hist[0].max() + 1.0)"
   ]
  },
  {
   "cell_type": "code",
   "execution_count": 48,
   "metadata": {},
   "outputs": [
    {
     "data": {
      "application/vnd.jupyter.widget-view+json": {
       "model_id": "0e0feb06e37940449ff68331063638ec",
       "version_major": 2,
       "version_minor": 0
      },
      "text/plain": [
       "interactive(children=(IntSlider(value=0, description='time step', max=40), Output()), _dom_classes=('widget-in…"
      ]
     },
     "metadata": {},
     "output_type": "display_data"
    }
   ],
   "source": [
    "sigma = 1.0\n",
    "dt = sigma*dx/u_max\n",
    "nt = 40\n",
    "\n",
    "\n",
    "rho0 = rho_red_light(x, rho_max)\n",
    "rho_hist = lax_friedrichs(rho0, nt, dt, dx, (rho0[0], rho0[-1]), u_max, rho_max)\n",
    "\n",
    "nt_slider = ipywidgets.IntSlider(value = 0, min = 0, max = nt, step = 1, description ='time step')\n",
    "\n",
    "display(ipywidgets.interactive(plot_density, n = nt_slider, rho_hist=ipywidgets.fixed(rho_hist)))"
   ]
  },
  {
   "cell_type": "markdown",
   "metadata": {},
   "source": [
    "error is observed as the wave which is non-vertical"
   ]
  },
  {
   "cell_type": "code",
   "execution_count": 46,
   "metadata": {},
   "outputs": [
    {
     "data": {
      "application/vnd.jupyter.widget-view+json": {
       "model_id": "e8a0ebcde57d48aa9a79907e38cabea7",
       "version_major": 2,
       "version_minor": 0
      },
      "text/plain": [
       "interactive(children=(IntSlider(value=0, description='time step', max=40), Output()), _dom_classes=('widget-in…"
      ]
     },
     "metadata": {},
     "output_type": "display_data"
    }
   ],
   "source": [
    "sigma = 0.5\n",
    "dt = sigma * dx / u_max\n",
    "nt = 40\n",
    "\n",
    "rho0 = rho_red_light(x, rho_max)\n",
    "rho_hist = lax_friedrichs(rho0, nt, dt, dx, (rho0[0], rho0[-1]), u_max, rho_max)\n",
    "\n",
    "nt_slider = ipywidgets.IntSlider(value = 0, min = 0, max = nt, step = 1, description ='time step')\n",
    "\n",
    "display(ipywidgets.interactive(plot_density, n = nt_slider, rho_hist=ipywidgets.fixed(rho_hist)))"
   ]
  },
  {
   "cell_type": "markdown",
   "metadata": {},
   "source": [
    "error is observed as the wave which is non-vertical\n",
    "in case of sigma = 1 showed the smaller error"
   ]
  },
  {
   "cell_type": "code",
   "execution_count": 55,
   "metadata": {},
   "outputs": [
    {
     "data": {
      "application/vnd.jupyter.widget-view+json": {
       "model_id": "8b8d9f7a7bc44a73b7d362b69834f12e",
       "version_major": 2,
       "version_minor": 0
      },
      "text/plain": [
       "interactive(children=(IntSlider(value=0, description='time step', max=40), Output()), _dom_classes=('widget-in…"
      ]
     },
     "metadata": {},
     "output_type": "display_data"
    }
   ],
   "source": [
    "sigma = 2\n",
    "dt = sigma * dx / u_max\n",
    "nt = 40\n",
    "\n",
    "rho0 = rho_red_light(x, rho_max)\n",
    "rho_hist = lax_friedrichs(rho0, nt, dt, dx, (rho0[0], rho0[-1]), u_max, rho_max)\n",
    "\n",
    "nt_slider = ipywidgets.IntSlider(value = 0, min = 0, max = nt, step = 1, description ='time step')\n",
    "\n",
    "display(ipywidgets.interactive(plot_density, n = nt_slider, rho_hist=ipywidgets.fixed(rho_hist)))"
   ]
  },
  {
   "cell_type": "code",
   "execution_count": 58,
   "metadata": {},
   "outputs": [
    {
     "name": "stderr",
     "output_type": "stream",
     "text": [
      "/opt/conda/lib/python3.6/site-packages/ipykernel_launcher.py:3: RuntimeWarning: overflow encountered in multiply\n",
      "  This is separate from the ipykernel package so we can avoid doing imports until\n",
      "/opt/conda/lib/python3.6/site-packages/ipykernel_launcher.py:12: RuntimeWarning: invalid value encountered in subtract\n",
      "  if sys.path[0] == '':\n"
     ]
    },
    {
     "data": {
      "application/vnd.jupyter.widget-view+json": {
       "model_id": "89003e748c3a46a9b4fe8d0f52685e93",
       "version_major": 2,
       "version_minor": 0
      },
      "text/plain": [
       "interactive(children=(IntSlider(value=0, description='time step', max=40), Output()), _dom_classes=('widget-in…"
      ]
     },
     "metadata": {},
     "output_type": "display_data"
    }
   ],
   "source": [
    "sigma = 1.5\n",
    "dt = sigma * dx / u_max\n",
    "nt = 40\n",
    "\n",
    "rho0 = rho_red_light(x, rho_max)\n",
    "rho_hist = lax_friedrichs(rho0, nt, dt, dx, (rho0[0], rho0[-1]), u_max, rho_max)\n",
    "\n",
    "nt_slider = ipywidgets.IntSlider(value = 0, min = 0, max = nt, step = 1, description ='time step')\n",
    "\n",
    "display(ipywidgets.interactive(plot_density, n = nt_slider, rho_hist=ipywidgets.fixed(rho_hist)))"
   ]
  },
  {
   "cell_type": "markdown",
   "metadata": {},
   "source": [
    "when we define sigma = 2, it seems there are no error, however when we define sigma = 1.5, error became huge"
   ]
  },
  {
   "cell_type": "code",
   "execution_count": 13,
   "metadata": {},
   "outputs": [],
   "source": [
    "def jacobian(rho, u_max, rho_max):\n",
    "    \n",
    "    J = u_max*(1.0 - 2.0*rho/rho_max)\n",
    "    return J"
   ]
  },
  {
   "cell_type": "code",
   "execution_count": 29,
   "metadata": {},
   "outputs": [],
   "source": [
    "#Lax-Wendroff scheme\n",
    "\n",
    "def lax_wendroff(rho0, nt, dt, dx, bc_values, *args):\n",
    "    \n",
    "    rho_hist = [rho0.copy()]\n",
    "    rho = rho0.copy()\n",
    "    for n in range(nt):\n",
    "        # Compute the flux.\n",
    "        F = flux(rho, *args)\n",
    "        # Compute the Jacobian.\n",
    "        J = jacobian(rho, *args)\n",
    "        # Advance in time using Lax-Wendroff scheme.\n",
    "        rho[1:-1] = (rho[1:-1] -\n",
    "                     dt / (2.0 * dx) * (F[2:] - F[:-2]) +\n",
    "                     dt**2 / (4.0 * dx**2) *\n",
    "                     ((J[1:-1] + J[2:]) * (F[2:] - F[1:-1]) -\n",
    "                      (J[:-2] + J[1:-1]) * (F[1:-1] - F[:-2])))\n",
    "        # Set the value at the first location.\n",
    "        rho[0] = bc_values[0]\n",
    "        # Set the value at the last location.\n",
    "        rho[-1] = bc_values[1]\n",
    "        # Record the time-step solution.\n",
    "        rho_hist.append(rho.copy())\n",
    "    return rho_hist"
   ]
  },
  {
   "cell_type": "code",
   "execution_count": 30,
   "metadata": {},
   "outputs": [],
   "source": [
    "def plot_density(n, rho_hist):\n",
    "    pyplot.figure(figsize = (8.0, 4.0))\n",
    "    pyplot.xlabel('Distance[km]')\n",
    "    pyplot.ylabel('Density[cars/km]')\n",
    "    pyplot.grid()\n",
    "    pyplot.plot(x, rho_hist[0], label='Initial')\n",
    "    pyplot.plot(x, rho_hist[n], label='Time step{}'.format(n))\n",
    "    pyplot.ylim(rho_hist[0].min() - 1.0, rho_hist[0].max() + 1.0)"
   ]
  },
  {
   "cell_type": "code",
   "execution_count": 31,
   "metadata": {},
   "outputs": [
    {
     "data": {
      "application/vnd.jupyter.widget-view+json": {
       "model_id": "22bc3a7cabdc430f972b5a0382520a64",
       "version_major": 2,
       "version_minor": 0
      },
      "text/plain": [
       "interactive(children=(IntSlider(value=0, description='time step', max=40), Output()), _dom_classes=('widget-in…"
      ]
     },
     "metadata": {},
     "output_type": "display_data"
    }
   ],
   "source": [
    "sigma = 1.0\n",
    "dt = sigma * dx / u_max\n",
    "nt = 40\n",
    "\n",
    "rho0 = rho_red_light(x, rho_max)\n",
    "rho_hist = lax_wendroff(rho0, nt, dt, dx, (rho0[0], rho0[-1]), u_max, rho_max)\n",
    "\n",
    "nt_slider = ipywidgets.IntSlider(value = 0, min = 0, max = nt, step = 1, description ='time step')\n",
    "\n",
    "display(ipywidgets.interactive(plot_density, n = nt_slider, rho_hist=ipywidgets.fixed(rho_hist)))"
   ]
  },
  {
   "cell_type": "code",
   "execution_count": 32,
   "metadata": {},
   "outputs": [
    {
     "data": {
      "application/vnd.jupyter.widget-view+json": {
       "model_id": "1cbdf61eaa0f4a21b886eda4896ef957",
       "version_major": 2,
       "version_minor": 0
      },
      "text/plain": [
       "interactive(children=(IntSlider(value=0, description='time step', max=40), Output()), _dom_classes=('widget-in…"
      ]
     },
     "metadata": {},
     "output_type": "display_data"
    }
   ],
   "source": [
    "sigma = 0.5\n",
    "dt = sigma * dx / u_max\n",
    "nt = 40\n",
    "\n",
    "rho0 = rho_red_light(x, rho_max)\n",
    "rho_hist = lax_wendroff(rho0, nt, dt, dx, (rho0[0], rho0[-1]), u_max, rho_max)\n",
    "\n",
    "nt_slider = ipywidgets.IntSlider(value = 0, min = 0, max = nt, step = 1, description ='time step')\n",
    "\n",
    "display(ipywidgets.interactive(plot_density, n = nt_slider, rho_hist=ipywidgets.fixed(rho_hist)))"
   ]
  },
  {
   "cell_type": "markdown",
   "metadata": {},
   "source": [
    "in Lax_Wendroff case, the error which is bigger than rho_max was observed"
   ]
  },
  {
   "cell_type": "code",
   "execution_count": 60,
   "metadata": {},
   "outputs": [
    {
     "data": {
      "application/vnd.jupyter.widget-view+json": {
       "model_id": "9bc81e930327489ba3443b77b0cc34fe",
       "version_major": 2,
       "version_minor": 0
      },
      "text/plain": [
       "interactive(children=(IntSlider(value=0, description='time step', max=40), Output()), _dom_classes=('widget-in…"
      ]
     },
     "metadata": {},
     "output_type": "display_data"
    }
   ],
   "source": [
    "sigma = 2\n",
    "dt = sigma * dx / u_max\n",
    "nt = 40\n",
    "\n",
    "rho0 = rho_red_light(x, rho_max)\n",
    "rho_hist = lax_wendroff(rho0, nt, dt, dx, (rho0[0], rho0[-1]), u_max, rho_max)\n",
    "\n",
    "nt_slider = ipywidgets.IntSlider(value = 0, min = 0, max = nt, step = 1, description ='time step')\n",
    "\n",
    "display(ipywidgets.interactive(plot_density, n = nt_slider, rho_hist=ipywidgets.fixed(rho_hist)))"
   ]
  },
  {
   "cell_type": "code",
   "execution_count": 33,
   "metadata": {},
   "outputs": [],
   "source": [
    "def maccormack(rho0, nt, dt, dx, bc_values, *args):\n",
    "    \n",
    "    rho_hist = [rho0.copy()]\n",
    "    rho = rho0.copy()\n",
    "    rho_star = rho.copy()\n",
    "    for n in range(nt):\n",
    "        # Compute the flux.\n",
    "        F = flux(rho, *args)\n",
    "        # Predictor step of the MacCormack scheme.\n",
    "        rho_star[1:-1] = (rho[1:-1] -\n",
    "                          dt / dx * (F[2:] - F[1:-1]))\n",
    "        # Compute the flux.\n",
    "        F = flux(rho_star, *args)\n",
    "        # Corrector step of the MacCormack scheme.\n",
    "        rho[1:-1] = 0.5 * (rho[1:-1] + rho_star[1:-1] -\n",
    "                           dt / dx * (F[1:-1] - F[:-2]))\n",
    "        # Set the value at the first location.\n",
    "        rho[0] = bc_values[0]\n",
    "        # Set the value at the last location.\n",
    "        rho[-1] = bc_values[1]\n",
    "        # Record the time-step solution.\n",
    "        rho_hist.append(rho.copy())\n",
    "    return rho_hist"
   ]
  },
  {
   "cell_type": "code",
   "execution_count": 34,
   "metadata": {},
   "outputs": [],
   "source": [
    "def plot_density(n, rho_hist):\n",
    "    pyplot.figure(figsize = (8.0, 4.0))\n",
    "    pyplot.xlabel('Distance[km]')\n",
    "    pyplot.ylabel('Density[cars/km]')\n",
    "    pyplot.grid()\n",
    "    pyplot.plot(x, rho_hist[0], label='Initial')\n",
    "    pyplot.plot(x, rho_hist[n], label='Time step{}'.format(n))\n",
    "    pyplot.ylim(rho_hist[0].min() - 1.0, rho_hist[0].max() + 1.0)"
   ]
  },
  {
   "cell_type": "code",
   "execution_count": 35,
   "metadata": {},
   "outputs": [
    {
     "data": {
      "application/vnd.jupyter.widget-view+json": {
       "model_id": "34174ed70dad455a98302433b67ec86b",
       "version_major": 2,
       "version_minor": 0
      },
      "text/plain": [
       "interactive(children=(IntSlider(value=0, description='time step', max=40), Output()), _dom_classes=('widget-in…"
      ]
     },
     "metadata": {},
     "output_type": "display_data"
    }
   ],
   "source": [
    "sigma = 1.0\n",
    "dt = sigma * dx / u_max\n",
    "nt = 40\n",
    "\n",
    "rho0 = rho_red_light(x, rho_max)\n",
    "rho_hist = maccormack(rho0, nt, dt, dx, (rho0[0], rho0[-1]), u_max, rho_max)\n",
    "\n",
    "nt_slider = ipywidgets.IntSlider(value = 0, min = 0, max = nt, step = 1, description ='time step')\n",
    "\n",
    "display(ipywidgets.interactive(plot_density, n = nt_slider, rho_hist=ipywidgets.fixed(rho_hist)))"
   ]
  },
  {
   "cell_type": "code",
   "execution_count": 41,
   "metadata": {},
   "outputs": [
    {
     "data": {
      "application/vnd.jupyter.widget-view+json": {
       "model_id": "ccf9b888edb4478193f7a92483718edc",
       "version_major": 2,
       "version_minor": 0
      },
      "text/plain": [
       "interactive(children=(IntSlider(value=0, description='time step', max=40), Output()), _dom_classes=('widget-in…"
      ]
     },
     "metadata": {},
     "output_type": "display_data"
    }
   ],
   "source": [
    "sigma = 0.5\n",
    "dt = sigma * dx / u_max\n",
    "nt = 40\n",
    "\n",
    "rho0 = rho_red_light(x, rho_max)\n",
    "rho_hist = maccormack(rho0, nt, dt, dx, (rho0[0], rho0[-1]), u_max, rho_max)\n",
    "\n",
    "nt_slider = ipywidgets.IntSlider(value = 0, min = 0, max = nt, step = 1, description ='time step')\n",
    "\n",
    "display(ipywidgets.interactive(plot_density, n = nt_slider, rho_hist=ipywidgets.fixed(rho_hist)))"
   ]
  },
  {
   "cell_type": "code",
   "execution_count": null,
   "metadata": {},
   "outputs": [],
   "source": []
  }
 ],
 "metadata": {
  "kernelspec": {
   "display_name": "Python 3",
   "language": "python",
   "name": "python3"
  },
  "language_info": {
   "codemirror_mode": {
    "name": "ipython",
    "version": 3
   },
   "file_extension": ".py",
   "mimetype": "text/x-python",
   "name": "python",
   "nbconvert_exporter": "python",
   "pygments_lexer": "ipython3",
   "version": "3.6.2"
  }
 },
 "nbformat": 4,
 "nbformat_minor": 2
}
